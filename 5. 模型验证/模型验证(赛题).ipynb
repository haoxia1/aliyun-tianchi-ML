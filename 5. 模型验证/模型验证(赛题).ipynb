{
 "cells": [
  {
   "cell_type": "code",
   "execution_count": 4,
   "metadata": {},
   "outputs": [],
   "source": [
    "# 导入工具\n",
    "import numpy as np\n",
    "import pandas as pd\n",
    "import matplotlib.pyplot as plt\n",
    "import seaborn as sns\n",
    "from scipy import stats\n",
    "# import warnings\n",
    "# warnings.filterwarnings('ignore')\n",
    "from sklearn.linear_model import LinearRegression\n",
    "from sklearn.neighbors import KNeighborsRegressor\n",
    "from sklearn.tree import DecisionTreeRegressor\n",
    "from sklearn.ensemble import RandomForestRegressor\n",
    "from sklearn.svm import SVR\n",
    "import lightgbm as lgb\n",
    "from sklearn.model_selection import train_test_split\n",
    "from sklearn.metrics import mean_squared_error\n",
    "from sklearn.linear_model import SGDRegressor"
   ]
  },
  {
   "cell_type": "code",
   "execution_count": 5,
   "metadata": {},
   "outputs": [],
   "source": [
    "# 读取数据\n",
    "train_data_file = '../zhengqi_train.txt' # ../代表上级目录\n",
    "test_data_file = '../zhengqi_test.txt'\n",
    "train_data = pd.read_csv(train_data_file, sep='\\t', encoding='utf-8') # 分隔符为'\\t'\n",
    "test_data = pd.read_csv(test_data_file, sep='\\t', encoding='utf-8')"
   ]
  },
  {
   "cell_type": "code",
   "execution_count": 6,
   "metadata": {},
   "outputs": [],
   "source": [
    "# 归一化\n",
    "from sklearn import preprocessing\n",
    "features_columns = train_data.columns[:-1]\n",
    "min_max_scaler = preprocessing.MinMaxScaler()\n",
    "# 为保证训练集和测试集都是从同一样本中抽样得到，所以只对训练集fit_transform 对测试集只需transform\n",
    "train_data_scaler = min_max_scaler.fit_transform(train_data[features_columns])\n",
    "test_data_scaler = min_max_scaler.transform(train_data[features_columns])\n",
    "\n",
    "train_data_scaler = pd.DataFrame(train_data_scaler)\n",
    "train_data_scaler.columns = features_columns\n",
    "train_data_scaler['target'] = train_data['target']\n",
    "\n",
    "test_data_scaler = pd.DataFrame(test_data_scaler)\n",
    "test_data_scaler.columns = features_columns"
   ]
  },
  {
   "cell_type": "code",
   "execution_count": 7,
   "metadata": {},
   "outputs": [],
   "source": [
    "# PCA方法进行特征降维\n",
    "from sklearn.decomposition import PCA # 主成分分析法\n",
    "pca = PCA(n_components=16) # 保留16个主成分\n",
    "new_train_pca_16 = pca.fit_transform(train_data_scaler.iloc[:,:-1])\n",
    "new_test_pca_16 = pca.transform(test_data_scaler)\n",
    "\n",
    "new_train_pca_16 = pd.DataFrame(new_train_pca_16)\n",
    "new_train_pca_16['target'] = train_data_scaler['target']\n",
    "\n",
    "new_test_pca_16 = pd.DataFrame(new_test_pca_16)"
   ]
  },
  {
   "cell_type": "code",
   "execution_count": 8,
   "metadata": {},
   "outputs": [],
   "source": [
    "# 保留16维特征并切分数据\n",
    "# new_train_pca_16 = new_train_pca_16.fillna(0)\n",
    "train = new_train_pca_16[new_test_pca_16.columns]\n",
    "target = new_train_pca_16['target']\n",
    "train_data, test_data, train_target, test_target = train_test_split(train, target, test_size=0.2, random_state=0)\n"
   ]
  },
  {
   "cell_type": "code",
   "execution_count": 24,
   "metadata": {},
   "outputs": [
    {
     "name": "stdout",
     "output_type": "stream",
     "text": [
      "SGDRegressor train MSE:   0.151629689344153\n",
      "SGDRegressor test MSE:   0.15603285820345816\n",
      "score of train MSE:   0.8403929480003336\n",
      "score of test MSE:   0.8498426663515907\n"
     ]
    }
   ],
   "source": [
    "# 模型欠拟合\n",
    "clf = SGDRegressor(max_iter=500, tol=1e-2) # 基于随机梯度下降法估计线性回归的参数; tol为停止标准\n",
    "clf.fit(train_data, train_target)\n",
    "score_train = mean_squared_error(train_target, clf.predict(train_data))\n",
    "score_test = mean_squared_error(test_target, clf.predict(test_data))\n",
    "print('SGDRegressor train MSE:  ', score_train)\n",
    "print('SGDRegressor test MSE:  ', score_test)\n",
    "# 这就能说明欠拟合？\n",
    "print('score of train MSE:  ', clf.score(train_data, train_target))\n",
    "print('score of test MSE:  ', clf.score(test_data, test_target)) \n"
   ]
  },
  {
   "cell_type": "code",
   "execution_count": 26,
   "metadata": {},
   "outputs": [
    {
     "name": "stdout",
     "output_type": "stream",
     "text": [
      "SGDRegressor train MSE:   0.13240533361273493\n",
      "SGDRegressor test MSE:   0.14499079186996386\n",
      "score of train MSE:   0.8606287128967472\n",
      "score of test MSE:   0.8604689360853949\n"
     ]
    }
   ],
   "source": [
    "from sklearn.preprocessing import PolynomialFeatures\n",
    "poly = PolynomialFeatures(5)\n",
    "train_data_poly = poly.fit_transform(train_data)\n",
    "test_data_poly = poly.transform(test_data)\n",
    "clf = SGDRegressor(max_iter=500, tol=1e-3)\n",
    "clf.fit(train_data_poly, train_target)\n",
    "score_train = mean_squared_error(train_target, clf.predict(train_data_poly))\n",
    "score_test = mean_squared_error(test_target, clf.predict(test_data_poly))\n",
    "print('SGDRegressor train MSE:  ', score_train)\n",
    "print('SGDRegressor test MSE:  ', score_test)\n",
    "# 这就能说明过拟合？\n",
    "print('score of train MSE:  ', clf.score(train_data_poly, train_target))\n",
    "print('score of test MSE:  ', clf.score(test_data_poly, test_target)) \n"
   ]
  },
  {
   "cell_type": "code",
   "execution_count": 29,
   "metadata": {},
   "outputs": [
    {
     "name": "stdout",
     "output_type": "stream",
     "text": [
      "SGDRegressor train MSE:   0.1341720456934358\n",
      "SGDRegressor test MSE:   0.1425203974222481\n",
      "score of train MSE:   0.85876905264055\n",
      "score of test MSE:   0.862846306131678\n"
     ]
    }
   ],
   "source": [
    "# 正常拟合\n",
    "from sklearn.preprocessing import PolynomialFeatures\n",
    "poly = PolynomialFeatures(3)\n",
    "train_data_poly = poly.fit_transform(train_data)\n",
    "test_data_poly = poly.transform(test_data)\n",
    "clf = SGDRegressor(max_iter=1000, tol=1e-3)\n",
    "clf.fit(train_data_poly, train_target)\n",
    "score_train = mean_squared_error(train_target, clf.predict(train_data_poly))\n",
    "score_test = mean_squared_error(test_target, clf.predict(test_data_poly))\n",
    "print('SGDRegressor train MSE:  ', score_train)\n",
    "print('SGDRegressor test MSE:  ', score_test)\n",
    "\n",
    "# 正常拟合情况下对test的MSE最小\n",
    "\n",
    "print('score of train MSE:  ', clf.score(train_data_poly, train_target))\n",
    "print('score of test MSE:  ', clf.score(test_data_poly, test_target)) \n"
   ]
  },
  {
   "cell_type": "markdown",
   "metadata": {},
   "source": [
    "2. 模型正则化"
   ]
  },
  {
   "cell_type": "markdown",
   "metadata": {},
   "source": [
    "2.1 L2范数正则化"
   ]
  },
  {
   "cell_type": "code",
   "execution_count": 35,
   "metadata": {},
   "outputs": [
    {
     "name": "stdout",
     "output_type": "stream",
     "text": [
      "SGDRegressor train MSE:   0.1344405679773981\n",
      "SGDRegressor test MSE:   0.1427679486217192\n",
      "score of train MSE:   0.8584864031783978\n",
      "score of test MSE:   0.8626080766428252\n"
     ]
    }
   ],
   "source": [
    "from sklearn.preprocessing import PolynomialFeatures\n",
    "poly = PolynomialFeatures(3)\n",
    "train_data_poly = poly.fit_transform(train_data)\n",
    "test_data_poly = poly.transform(test_data)\n",
    "clf = SGDRegressor(max_iter=1000, tol=1e-3, penalty='L2', alpha=0.0001) # L2范数正则化\n",
    "clf.fit(train_data_poly, train_target)\n",
    "score_train = mean_squared_error(train_target, clf.predict(train_data_poly))\n",
    "score_test = mean_squared_error(test_target, clf.predict(test_data_poly))\n",
    "print('SGDRegressor train MSE:  ', score_train)\n",
    "print('SGDRegressor test MSE:  ', score_test)\n",
    "print('score of train MSE:  ', clf.score(train_data_poly, train_target))\n",
    "print('score of test MSE:  ', clf.score(test_data_poly, test_target)) "
   ]
  },
  {
   "cell_type": "markdown",
   "metadata": {},
   "source": [
    "3 模型交叉验证"
   ]
  },
  {
   "cell_type": "markdown",
   "metadata": {},
   "source": [
    "3.1 简单交叉验证"
   ]
  },
  {
   "cell_type": "code",
   "execution_count": 36,
   "metadata": {},
   "outputs": [
    {
     "name": "stdout",
     "output_type": "stream",
     "text": [
      "SGDRegressor train MSE:   0.1340462879480953\n",
      "SGDRegressor test MSE:   0.14245751452624547\n"
     ]
    }
   ],
   "source": [
    "from sklearn.preprocessing import PolynomialFeatures\n",
    "from sklearn.model_selection import train_test_split\n",
    "# 将原训练集又切分为80%的训练集和20%的验证集\n",
    "train_data, test_data, train_target, test_target = train_test_split(train, target,\n",
    "                                                                    test_size=0.2, random_state=0)\n",
    "poly = PolynomialFeatures(3)\n",
    "train_data_poly = poly.fit_transform(train_data)\n",
    "test_data_poly = poly.transform(test_data)\n",
    "clf = SGDRegressor(max_iter=1000, tol=1e-3)\n",
    "clf.fit(train_data_poly, train_target)\n",
    "score_train = mean_squared_error(train_target, clf.predict(train_data_poly))\n",
    "score_test = mean_squared_error(test_target, clf.predict(test_data_poly))\n",
    "print('SGDRegressor train MSE:  ', score_train)\n",
    "print('SGDRegressor test MSE:  ', score_test)\n"
   ]
  },
  {
   "cell_type": "markdown",
   "metadata": {},
   "source": [
    "3.2 K折交叉验证"
   ]
  },
  {
   "cell_type": "code",
   "execution_count": 38,
   "metadata": {},
   "outputs": [
    {
     "name": "stdout",
     "output_type": "stream",
     "text": [
      "0 折 SGDRegressor train MSE:   0.15004340474265546\n",
      "0 折 SGDRegressor test MSE:   0.10581830160699959 \n",
      "\n",
      "1 折 SGDRegressor train MSE:   0.13362022019827405\n",
      "1 折 SGDRegressor test MSE:   0.18229636366915986 \n",
      "\n",
      "2 折 SGDRegressor train MSE:   0.1465700934689044\n",
      "2 折 SGDRegressor test MSE:   0.132894816958445 \n",
      "\n",
      "3 折 SGDRegressor train MSE:   0.14147686443421836\n",
      "3 折 SGDRegressor test MSE:   0.16299025644470327 \n",
      "\n",
      "4 折 SGDRegressor train MSE:   0.1387519893104706\n",
      "4 折 SGDRegressor test MSE:   0.16546101120757006 \n",
      "\n"
     ]
    }
   ],
   "source": [
    "from sklearn.model_selection import KFold\n",
    "kf = KFold(n_splits=5)  # 5折交叉验证\n",
    "for k, (train_index, test_index) in enumerate(kf.split(train)):\n",
    "    train_data, test_data, train_target, test_target = train.values[\n",
    "        train_index], train.values[test_index], target[train_index], target[test_index]\n",
    "    clf = SGDRegressor(max_iter=1000, tol=1e-3)\n",
    "    clf.fit(train_data, train_target)\n",
    "    score_train = mean_squared_error(train_target, clf.predict(train_data))\n",
    "    score_test = mean_squared_error(test_target, clf.predict(test_data))\n",
    "    print(k, '折', 'SGDRegressor train MSE:  ', score_train)\n",
    "    print(k, '折', 'SGDRegressor test MSE:  ', score_test,'\\n')\n",
    "\n"
   ]
  },
  {
   "cell_type": "markdown",
   "metadata": {},
   "source": [
    "留一法、留P法略"
   ]
  },
  {
   "cell_type": "markdown",
   "metadata": {},
   "source": [
    "4. 模型超参空间及调参"
   ]
  },
  {
   "cell_type": "markdown",
   "metadata": {},
   "source": [
    "4.1 网格搜索"
   ]
  },
  {
   "cell_type": "code",
   "execution_count": 39,
   "metadata": {},
   "outputs": [
    {
     "name": "stdout",
     "output_type": "stream",
     "text": [
      "RandomForestRegressor GridSearchCV test MSE:   0.2542298810896775\n"
     ]
    }
   ],
   "source": [
    "# 使用网格搜索调参对随机森林模型进行训练\n",
    "from sklearn.model_selection import GridSearchCV\n",
    "from sklearn.ensemble import RandomForestRegressor\n",
    "from sklearn.model_selection import train_test_split\n",
    "train_data, test_data, train_target, test_target = train_test_split(train, target,\n",
    "                                                                    test_size=0.2, random_state=0)\n",
    "\n",
    "randomForestRegressor = RandomForestRegressor()\n",
    "parameters = {'n_estimators': [50, 100, 200], 'max_depth':[1,2,3]}\n",
    "clf = GridSearchCV(randomForestRegressor, parameters, cv=5) # 指定交叉验证fold数量\n",
    "\n",
    "clf.fit(train_data, train_target)\n",
    "score_test = mean_squared_error(test_target, clf.predict(test_data))\n",
    "\n",
    "print('RandomForestRegressor GridSearchCV test MSE:  ', score_test)\n"
   ]
  },
  {
   "cell_type": "code",
   "execution_count": null,
   "metadata": {},
   "outputs": [],
   "source": []
  }
 ],
 "metadata": {
  "kernelspec": {
   "display_name": "Python 3.10.6 64-bit",
   "language": "python",
   "name": "python3"
  },
  "language_info": {
   "codemirror_mode": {
    "name": "ipython",
    "version": 3
   },
   "file_extension": ".py",
   "mimetype": "text/x-python",
   "name": "python",
   "nbconvert_exporter": "python",
   "pygments_lexer": "ipython3",
   "version": "3.10.6"
  },
  "orig_nbformat": 4,
  "vscode": {
   "interpreter": {
    "hash": "607db476e417971f05b607c2dd14e77ee8262c2c4c20dea422522c60605a222a"
   }
  }
 },
 "nbformat": 4,
 "nbformat_minor": 2
}
