{
 "cells": [
  {
   "cell_type": "markdown",
   "metadata": {},
   "source": [
    "# 模型训练"
   ]
  },
  {
   "cell_type": "markdown",
   "metadata": {},
   "source": [
    "1. 异常值分析"
   ]
  },
  {
   "cell_type": "code",
   "execution_count": 43,
   "metadata": {},
   "outputs": [],
   "source": [
    "import numpy as np\n",
    "import pandas as pd\n",
    "import matplotlib.pyplot as plt\n",
    "import seaborn as sns\n",
    "from scipy import stats # 统计\n",
    "%matplotlib inline\n",
    "import warnings\n",
    "warnings.filterwarnings('ignore')"
   ]
  },
  {
   "cell_type": "code",
   "execution_count": 44,
   "metadata": {},
   "outputs": [],
   "source": [
    "train_data_file = '../zhengqi_train.txt' # ./代表当前目录\n",
    "test_data_file = '../zhengqi_test.txt'\n",
    "train_data = pd.read_csv(train_data_file, sep='\\t', encoding='utf-8') # 分隔符为'\\t'\n",
    "test_data = pd.read_csv(test_data_file, sep='\\t', encoding='utf-8')\n"
   ]
  },
  {
   "cell_type": "code",
   "execution_count": 45,
   "metadata": {},
   "outputs": [],
   "source": [
    "# 如V9是异常值，分别将训练集和测试集中的异常值删除\n",
    "train_data = train_data[train_data['V9'] > -7.5] # 2888行变成2886行 删除了俩异常值\n",
    "test_data = test_data[test_data['V9'] > -7.5] # 1925行不变"
   ]
  },
  {
   "cell_type": "markdown",
   "metadata": {},
   "source": [
    "2. 最大值和最小值的归一化"
   ]
  },
  {
   "cell_type": "code",
   "execution_count": 46,
   "metadata": {},
   "outputs": [],
   "source": [
    "from sklearn import preprocessing \n",
    "# feature_columns = [col for col in train_data.columns if col not in ['target']]\n",
    "feature_columns = train_data.columns.tolist()[:-1]\n",
    "# 归一化(不对target进行归一化)\n",
    "min_max_scaler = preprocessing.MinMaxScaler()  # 创建对象\n",
    "train_data_scaler = min_max_scaler.fit_transform(train_data[feature_columns]) # 只对train集进行fit\n",
    "test_data_scaler = min_max_scaler.transform(test_data) # 对test集只进行transform\n",
    "train_data_scaler = pd.DataFrame(train_data_scaler) # ndarray -> df\n",
    "train_data_scaler.columns = feature_columns # add columns\n",
    "train_data_scaler['target'] = train_data['target'] # add 'target'\n",
    "\n",
    "test_data_scaler = pd.DataFrame(test_data_scaler)\n",
    "test_data_scaler.columns = feature_columns\n",
    "\n",
    "# display(train_data_scaler.describe())\n",
    "# display(test_data_scaler.describe())"
   ]
  },
  {
   "cell_type": "markdown",
   "metadata": {},
   "source": [
    "3. PCA处理"
   ]
  },
  {
   "cell_type": "code",
   "execution_count": 47,
   "metadata": {},
   "outputs": [],
   "source": [
    "# PCA保留16个主成分\n",
    "\n",
    "from sklearn.decomposition import PCA # 主成分分析法\n",
    "\n",
    "pca = PCA(n_components=16)\n",
    "new_train_pca_16 = pca.fit_transform(train_data_scaler.iloc[:,:-1])\n",
    "new_test_pca_16 = pca.transform(test_data_scaler)\n",
    "\n",
    "new_train_pca_16 = pd.DataFrame(new_train_pca_16)\n",
    "new_test_pca_16 = pd.DataFrame(new_test_pca_16)\n",
    "\n",
    "new_train_pca_16['target'] = train_data_scaler['target']\n"
   ]
  },
  {
   "cell_type": "markdown",
   "metadata": {},
   "source": [
    "## 回归模型"
   ]
  },
  {
   "cell_type": "markdown",
   "metadata": {},
   "source": [
    "1. 线性回归模型"
   ]
  },
  {
   "cell_type": "markdown",
   "metadata": {},
   "source": [
    "1.1 PCA取特征->分割训练集"
   ]
  },
  {
   "cell_type": "code",
   "execution_count": 48,
   "metadata": {},
   "outputs": [],
   "source": [
    "\"\"\"\n",
    "new_train_pca_16: PCA处理后只剩下16个特征的训练集 (2886, 17)\n",
    "new_test_pca_16: PCA处理后只剩下16个特征的测试集  (1925, 16)\n",
    "train: 即X，没有target (2886, 16)\n",
    "target: 即y (2886, )\n",
    "\"\"\"\n",
    "\n",
    "from sklearn.model_selection import train_test_split\n",
    "# display(new_train_pca_16.info()) # 为何target少2个值？\n",
    "new_train_pca_16 = new_train_pca_16.fillna(0)  # 缺失值填充为0；采用PCA保留16维特征的数据\n",
    "train = new_train_pca_16[new_test_pca_16.columns] # train 就是X，没有target (2886, 16)\n",
    "target = new_train_pca_16['target']  # (2886, )\n",
    "\n",
    "# display(train_data.shape) # (2886, 39)\n",
    "# display(test_data.shape)  # (1925, 38)\n",
    "# 切分训练集 训练数据80%，验证数据20%； 测试集始终没动\n",
    "train_data, test_data, train_target, test_target = train_test_split(\n",
    "    train, target, test_size=0.2, random_state=0) # 那原来的train_data和test_data变量怎么办\n",
    "# display(train_data.shape) # (2308, 17) # 特征改为17个\n",
    "# display(test_data.shape)  # (578, 17) # 此处test属于原训练集"
   ]
  },
  {
   "cell_type": "code",
   "execution_count": 49,
   "metadata": {},
   "outputs": [
    {
     "name": "stdout",
     "output_type": "stream",
     "text": [
      "LinearRegression:   0.27169987353423153\n",
      "R2_Score_from_clf:      0.7350903122742058\n",
      "R2_score_from_myself:   0.7350903122742058\n"
     ]
    }
   ],
   "source": [
    "from sklearn.metrics import mean_squared_error # 评价指标\n",
    "from sklearn.linear_model import LinearRegression # 导入线性回归模型\n",
    "clf = LinearRegression()\n",
    "clf.fit(train_data,train_target)\n",
    "test_pred = clf.predict(test_data)\n",
    "\n",
    "score = mean_squared_error(test_target, clf.predict(test_data)) # MSE\n",
    "print('LinearRegression:  ', score)\n",
    "print('R2_Score_from_clf:     ', clf.score(test_data, test_target))\n",
    "print('R2_score_from_myself:  ', cal_r2_score(test_data, test_target, clf.predict(test_data)))"
   ]
  },
  {
   "cell_type": "markdown",
   "metadata": {},
   "source": [
    "2. K近邻回归模型"
   ]
  },
  {
   "cell_type": "code",
   "execution_count": 50,
   "metadata": {},
   "outputs": [
    {
     "name": "stdout",
     "output_type": "stream",
     "text": [
      "KNeighborsRegressor:   0.26758239023452524\n",
      "R2_Score_from_clf:      0.7391048935139868\n",
      "R2_score_from_myself:   0.7391048935139868\n"
     ]
    }
   ],
   "source": [
    "from sklearn.neighbors import KNeighborsRegressor # 回归\n",
    "clf = KNeighborsRegressor(n_neighbors=3) # 最近的3个\n",
    "clf.fit(train_data, train_target)\n",
    "test_pred = clf.predict(test_data)\n",
    "\n",
    "score = mean_squared_error(test_target, clf.predict(test_data))\n",
    "print('KNeighborsRegressor:  ', score)\n",
    "print('R2_Score_from_clf:     ', clf.score(test_data, test_target))\n",
    "print('R2_score_from_myself:  ', cal_r2_score(test_data, test_target, clf.predict(test_data)))"
   ]
  },
  {
   "cell_type": "markdown",
   "metadata": {},
   "source": [
    "3. 决策树回归模型"
   ]
  },
  {
   "cell_type": "code",
   "execution_count": 51,
   "metadata": {},
   "outputs": [
    {
     "name": "stdout",
     "output_type": "stream",
     "text": [
      "DecisionTreeRegressor:   0.5825566211072664\n",
      "R2_Score_from_clf:      0.4320023392992992\n",
      "R2_score_from_myself:   0.4320023392992992\n"
     ]
    }
   ],
   "source": [
    "from sklearn.tree import DecisionTreeRegressor # 决策树回归算法\n",
    "clf = DecisionTreeRegressor()\n",
    "clf.fit(train_data, train_target)\n",
    "test_pred = clf.predict(test_data)\n",
    "\n",
    "score = mean_squared_error(test_target, clf.predict(test_data))\n",
    "print('DecisionTreeRegressor:  ', score) # 这准确率不错啊\n",
    "print('R2_Score_from_clf:     ', clf.score(test_data, test_target))\n",
    "print('R2_score_from_myself:  ', cal_r2_score(test_data, test_target, clf.predict(test_data)))"
   ]
  },
  {
   "cell_type": "markdown",
   "metadata": {},
   "source": [
    "4. 集成学习回归模型"
   ]
  },
  {
   "cell_type": "markdown",
   "metadata": {},
   "source": [
    "4.1 随机森林回归模型"
   ]
  },
  {
   "cell_type": "code",
   "execution_count": 52,
   "metadata": {},
   "outputs": [
    {
     "name": "stdout",
     "output_type": "stream",
     "text": [
      "RandomForestRegressor:   0.25260074332651383\n",
      "R2_Score_from_clf:      0.7537121266804732\n",
      "R2_score_from_myself:   0.7537121266804732\n"
     ]
    }
   ],
   "source": [
    "from sklearn.ensemble import RandomForestRegressor\n",
    "clf = RandomForestRegressor(n_estimators=200) # 200棵树模型\n",
    "clf.fit(train_data, train_target)\n",
    "test_pred = clf.predict(test_data)\n",
    "\n",
    "score = mean_squared_error(test_target, clf.predict(test_data))\n",
    "print('RandomForestRegressor:  ', score) # 准确率就这？？\n",
    "print('R2_Score_from_clf:     ', clf.score(test_data, test_target))\n",
    "print('R2_score_from_myself:  ', cal_r2_score(test_data, test_target, clf.predict(test_data)))"
   ]
  },
  {
   "cell_type": "markdown",
   "metadata": {},
   "source": [
    "4.2 LGB回归模型"
   ]
  },
  {
   "cell_type": "code",
   "execution_count": 55,
   "metadata": {},
   "outputs": [
    {
     "name": "stdout",
     "output_type": "stream",
     "text": [
      "lightGbm:   0.2464496224326475\n",
      "R2_Score_from_clf:      0.7597095218723132\n",
      "R2_score_from_myself:   0.7597095218723132\n"
     ]
    }
   ],
   "source": [
    "import lightgbm as lgb                              # LightGBM模型\n",
    "clf = lgb.LGBMRegressor(\n",
    "    learning_rate=0.01,\n",
    "    max_depth=-1,\n",
    "    n_estimators=5000,\n",
    "    boosting_type='gbdt',\n",
    "    random_state=2019,\n",
    "    objective='regression'\n",
    ")\n",
    "\n",
    "clf.fit(X=train_data, y=train_target, eval_metric='MSE', verbose=50)\n",
    "score = mean_squared_error(test_target, clf.predict(test_data))\n",
    "print('lightGbm:  ', score)\n",
    "print('R2_Score_from_clf:     ', clf.score(test_data, test_target))\n",
    "print('R2_score_from_myself:  ', cal_r2_score(test_data, test_target, clf.predict(test_data)))"
   ]
  }
 ],
 "metadata": {
  "kernelspec": {
   "display_name": "Python 3.10.6 64-bit",
   "language": "python",
   "name": "python3"
  },
  "language_info": {
   "codemirror_mode": {
    "name": "ipython",
    "version": 3
   },
   "file_extension": ".py",
   "mimetype": "text/x-python",
   "name": "python",
   "nbconvert_exporter": "python",
   "pygments_lexer": "ipython3",
   "version": "3.10.6"
  },
  "orig_nbformat": 4,
  "vscode": {
   "interpreter": {
    "hash": "607db476e417971f05b607c2dd14e77ee8262c2c4c20dea422522c60605a222a"
   }
  }
 },
 "nbformat": 4,
 "nbformat_minor": 2
}
